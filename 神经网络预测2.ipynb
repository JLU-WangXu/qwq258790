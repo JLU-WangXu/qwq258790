{
  "nbformat": 4,
  "nbformat_minor": 0,
  "metadata": {
    "colab": {
      "name": "神经网络预测2.ipynb",
      "provenance": [],
      "collapsed_sections": [],
      "authorship_tag": "ABX9TyNYxtl9Rnjy+LB1GZjoXIAE",
      "include_colab_link": true
    },
    "kernelspec": {
      "name": "python3",
      "display_name": "Python 3"
    },
    "language_info": {
      "name": "python"
    }
  },
  "cells": [
    {
      "cell_type": "markdown",
      "metadata": {
        "id": "view-in-github",
        "colab_type": "text"
      },
      "source": [
        "<a href=\"https://colab.research.google.com/github/qwq258790/qwq258790/blob/main/%E7%A5%9E%E7%BB%8F%E7%BD%91%E7%BB%9C%E9%A2%84%E6%B5%8B2.ipynb\" target=\"_parent\"><img src=\"https://colab.research.google.com/assets/colab-badge.svg\" alt=\"Open In Colab\"/></a>"
      ]
    },
    {
      "cell_type": "code",
      "execution_count": 5,
      "metadata": {
        "id": "QjpAcztUh0ZB"
      },
      "outputs": [],
      "source": [
        "import pandas as pd\n",
        "df=pd.read_csv(\"abc.csv\")"
      ]
    },
    {
      "cell_type": "code",
      "source": [
        "print(df)"
      ],
      "metadata": {
        "colab": {
          "base_uri": "https://localhost:8080/"
        },
        "id": "EwFD4nkzry0U",
        "outputId": "198ca0e1-b5d4-429d-bbb3-09b03d116b19"
      },
      "execution_count": 6,
      "outputs": [
        {
          "output_type": "stream",
          "name": "stdout",
          "text": [
            "         Attr1     Attr2     Attr3  ...    Attr63    Attr64  class\n",
            "0    -0.031545 -0.091313 -0.040269  ... -0.173939 -0.046788    0.0\n",
            "1    -0.231729 -0.049448  0.304381  ... -0.073056 -0.027236    0.0\n",
            "2    -0.058602  0.065060 -0.488404  ... -0.291624 -0.033580    0.0\n",
            "3    -0.069376  0.044641 -0.181684  ... -0.554685 -0.046823    0.0\n",
            "4     0.236424 -0.051912  0.678337  ... -0.027841 -0.023694    0.0\n",
            "...        ...       ...       ...  ...       ...       ...    ...\n",
            "3905 -0.071303 -0.024195  0.134832  ... -0.362340 -0.035612    0.0\n",
            "3906 -0.374892  0.339346 -1.674706  ... -0.434175  0.025560    0.0\n",
            "3907 -0.080942 -0.070007  0.406002  ... -0.202776 -0.036867    0.0\n",
            "3908 -0.017681 -0.148693 -0.324804  ...  0.261604 -0.048266    0.0\n",
            "3909  0.026395  0.035345  0.602451  ...       NaN       NaN    NaN\n",
            "\n",
            "[3910 rows x 65 columns]\n"
          ]
        }
      ]
    },
    {
      "cell_type": "code",
      "source": [
        "X = df.loc[:, [\"Attr1\",\"Attr2\",\"Attr3\"]]\n",
        "Y = df.loc[:, [\"class\"]]"
      ],
      "metadata": {
        "id": "2VZkdbaYiMQj"
      },
      "execution_count": 7,
      "outputs": []
    },
    {
      "cell_type": "code",
      "source": [
        "from sklearn.model_selection import train_test_split"
      ],
      "metadata": {
        "id": "VRSE3CaotRss"
      },
      "execution_count": 10,
      "outputs": []
    },
    {
      "cell_type": "code",
      "source": [
        "X_train,X_test,Y_train,Y_test=train_test_split(X,Y)"
      ],
      "metadata": {
        "id": "mm7rALMTtoAr"
      },
      "execution_count": 12,
      "outputs": []
    },
    {
      "cell_type": "code",
      "source": [
        "from keras.models import Sequential"
      ],
      "metadata": {
        "id": "lqHCs9l5toKu"
      },
      "execution_count": 13,
      "outputs": []
    },
    {
      "cell_type": "code",
      "source": [
        "from keras.layers import Dense ,Dropout"
      ],
      "metadata": {
        "id": "cBgy63-puYuq"
      },
      "execution_count": 16,
      "outputs": []
    },
    {
      "cell_type": "code",
      "source": [
        "model=Sequential()"
      ],
      "metadata": {
        "id": "x4FaPPFPuYzv"
      },
      "execution_count": 17,
      "outputs": []
    },
    {
      "cell_type": "code",
      "source": [
        "model.add(Dense(5,input_dim=3,activation=\"relu\"))"
      ],
      "metadata": {
        "id": "bbNN3JPCuY5m"
      },
      "execution_count": 19,
      "outputs": []
    },
    {
      "cell_type": "code",
      "source": [
        "model.add(Dropout(0.2))"
      ],
      "metadata": {
        "id": "4nz3J-UkuY8a"
      },
      "execution_count": 20,
      "outputs": []
    },
    {
      "cell_type": "code",
      "source": [
        "model.add(Dense(4,activation=\"relu\"))"
      ],
      "metadata": {
        "id": "ASE60e-1uY_W"
      },
      "execution_count": 21,
      "outputs": []
    },
    {
      "cell_type": "code",
      "source": [
        "model.add(Dropout(0.2))"
      ],
      "metadata": {
        "id": "8zaagxhtuZCD"
      },
      "execution_count": 22,
      "outputs": []
    },
    {
      "cell_type": "code",
      "source": [
        "model.add(Dense(6,activation=\"relu\"))"
      ],
      "metadata": {
        "id": "shouPFg-uZEu"
      },
      "execution_count": 23,
      "outputs": []
    },
    {
      "cell_type": "code",
      "source": [
        "model.add(Dropout(0.2))"
      ],
      "metadata": {
        "id": "AWnFgd_CxWov"
      },
      "execution_count": 24,
      "outputs": []
    },
    {
      "cell_type": "code",
      "source": [
        "model.add(Dense(1,activation=\"sigmoid\"))"
      ],
      "metadata": {
        "id": "khGJfDtExWr7"
      },
      "execution_count": 25,
      "outputs": []
    },
    {
      "cell_type": "code",
      "source": [
        "model.summary()"
      ],
      "metadata": {
        "colab": {
          "base_uri": "https://localhost:8080/"
        },
        "id": "VwNJ8MlixWvO",
        "outputId": "1651969b-8be4-44a0-fa9b-647e829d683f"
      },
      "execution_count": 26,
      "outputs": [
        {
          "output_type": "stream",
          "name": "stdout",
          "text": [
            "Model: \"sequential\"\n",
            "_________________________________________________________________\n",
            " Layer (type)                Output Shape              Param #   \n",
            "=================================================================\n",
            " dense (Dense)               (None, 5)                 20        \n",
            "                                                                 \n",
            " dropout (Dropout)           (None, 5)                 0         \n",
            "                                                                 \n",
            " dense_1 (Dense)             (None, 4)                 24        \n",
            "                                                                 \n",
            " dropout_1 (Dropout)         (None, 4)                 0         \n",
            "                                                                 \n",
            " dense_2 (Dense)             (None, 6)                 30        \n",
            "                                                                 \n",
            " dropout_2 (Dropout)         (None, 6)                 0         \n",
            "                                                                 \n",
            " dense_3 (Dense)             (None, 1)                 7         \n",
            "                                                                 \n",
            "=================================================================\n",
            "Total params: 81\n",
            "Trainable params: 81\n",
            "Non-trainable params: 0\n",
            "_________________________________________________________________\n"
          ]
        }
      ]
    },
    {
      "cell_type": "code",
      "source": [
        "model.compile(loss=\"binary_crossentropy\",metrics=[\"accuracy\"])"
      ],
      "metadata": {
        "id": "1Dy5E6h5xWyH"
      },
      "execution_count": 27,
      "outputs": []
    },
    {
      "cell_type": "code",
      "source": [
        "model.fit(X_train,Y_train,epochs=20)"
      ],
      "metadata": {
        "colab": {
          "base_uri": "https://localhost:8080/"
        },
        "id": "_ehVHfioyTBM",
        "outputId": "fd8e8791-a072-4c81-d480-79cba87e999c"
      },
      "execution_count": 28,
      "outputs": [
        {
          "output_type": "stream",
          "name": "stdout",
          "text": [
            "Epoch 1/20\n",
            "92/92 [==============================] - 2s 4ms/step - loss: nan - accuracy: 0.8919\n",
            "Epoch 2/20\n",
            "92/92 [==============================] - 0s 4ms/step - loss: nan - accuracy: 0.9789\n",
            "Epoch 3/20\n",
            "92/92 [==============================] - 1s 8ms/step - loss: nan - accuracy: 0.9789\n",
            "Epoch 4/20\n",
            "92/92 [==============================] - 1s 6ms/step - loss: nan - accuracy: 0.9789\n",
            "Epoch 5/20\n",
            "92/92 [==============================] - 0s 3ms/step - loss: nan - accuracy: 0.9789\n",
            "Epoch 6/20\n",
            "92/92 [==============================] - 0s 3ms/step - loss: nan - accuracy: 0.9789\n",
            "Epoch 7/20\n",
            "92/92 [==============================] - 0s 3ms/step - loss: nan - accuracy: 0.9789\n",
            "Epoch 8/20\n",
            "92/92 [==============================] - 0s 3ms/step - loss: nan - accuracy: 0.9789\n",
            "Epoch 9/20\n",
            "92/92 [==============================] - 0s 3ms/step - loss: nan - accuracy: 0.9789\n",
            "Epoch 10/20\n",
            "92/92 [==============================] - 0s 3ms/step - loss: nan - accuracy: 0.9789\n",
            "Epoch 11/20\n",
            "92/92 [==============================] - 0s 3ms/step - loss: nan - accuracy: 0.9789\n",
            "Epoch 12/20\n",
            "92/92 [==============================] - 0s 3ms/step - loss: nan - accuracy: 0.9789\n",
            "Epoch 13/20\n",
            "92/92 [==============================] - 0s 3ms/step - loss: nan - accuracy: 0.9789\n",
            "Epoch 14/20\n",
            "92/92 [==============================] - 0s 3ms/step - loss: nan - accuracy: 0.9789\n",
            "Epoch 15/20\n",
            "92/92 [==============================] - 0s 3ms/step - loss: nan - accuracy: 0.9789\n",
            "Epoch 16/20\n",
            "92/92 [==============================] - 0s 3ms/step - loss: nan - accuracy: 0.9789\n",
            "Epoch 17/20\n",
            "92/92 [==============================] - 0s 3ms/step - loss: nan - accuracy: 0.9789\n",
            "Epoch 18/20\n",
            "92/92 [==============================] - 0s 3ms/step - loss: nan - accuracy: 0.9789\n",
            "Epoch 19/20\n",
            "92/92 [==============================] - 0s 3ms/step - loss: nan - accuracy: 0.9789\n",
            "Epoch 20/20\n",
            "92/92 [==============================] - 0s 3ms/step - loss: nan - accuracy: 0.9789\n"
          ]
        },
        {
          "output_type": "execute_result",
          "data": {
            "text/plain": [
              "<keras.callbacks.History at 0x7f0ee73c5ad0>"
            ]
          },
          "metadata": {},
          "execution_count": 28
        }
      ]
    },
    {
      "cell_type": "code",
      "source": [
        "model.evaluate(X_test,Y_test)"
      ],
      "metadata": {
        "colab": {
          "base_uri": "https://localhost:8080/"
        },
        "id": "Pod7S6y4yTMy",
        "outputId": "dd5a08b2-b406-468c-abee-b207a30399f5"
      },
      "execution_count": 29,
      "outputs": [
        {
          "output_type": "stream",
          "name": "stdout",
          "text": [
            "31/31 [==============================] - 0s 2ms/step - loss: nan - accuracy: 0.9826\n"
          ]
        },
        {
          "output_type": "execute_result",
          "data": {
            "text/plain": [
              "[nan, 0.9826176166534424]"
            ]
          },
          "metadata": {},
          "execution_count": 29
        }
      ]
    },
    {
      "cell_type": "code",
      "source": [
        "model.save(\"BKR\")"
      ],
      "metadata": {
        "colab": {
          "base_uri": "https://localhost:8080/"
        },
        "id": "W-IvLZXhyUEs",
        "outputId": "6b8dd247-d371-462f-8430-04cc28a916e8"
      },
      "execution_count": 50,
      "outputs": [
        {
          "output_type": "stream",
          "name": "stdout",
          "text": [
            "INFO:tensorflow:Assets written to: BKR/assets\n"
          ]
        }
      ]
    },
    {
      "cell_type": "code",
      "source": [
        "from google.colab import files\n",
        "files.download('BKR')"
      ],
      "metadata": {
        "colab": {
          "base_uri": "https://localhost:8080/",
          "height": 34
        },
        "id": "RLJqX-1h4D31",
        "outputId": "cd96a0db-31ba-4ada-b03d-ec345c165d49"
      },
      "execution_count": 52,
      "outputs": [
        {
          "output_type": "display_data",
          "data": {
            "application/javascript": [
              "\n",
              "    async function download(id, filename, size) {\n",
              "      if (!google.colab.kernel.accessAllowed) {\n",
              "        return;\n",
              "      }\n",
              "      const div = document.createElement('div');\n",
              "      const label = document.createElement('label');\n",
              "      label.textContent = `Downloading \"${filename}\": `;\n",
              "      div.appendChild(label);\n",
              "      const progress = document.createElement('progress');\n",
              "      progress.max = size;\n",
              "      div.appendChild(progress);\n",
              "      document.body.appendChild(div);\n",
              "\n",
              "      const buffers = [];\n",
              "      let downloaded = 0;\n",
              "\n",
              "      const channel = await google.colab.kernel.comms.open(id);\n",
              "      // Send a message to notify the kernel that we're ready.\n",
              "      channel.send({})\n",
              "\n",
              "      for await (const message of channel.messages) {\n",
              "        // Send a message to notify the kernel that we're ready.\n",
              "        channel.send({})\n",
              "        if (message.buffers) {\n",
              "          for (const buffer of message.buffers) {\n",
              "            buffers.push(buffer);\n",
              "            downloaded += buffer.byteLength;\n",
              "            progress.value = downloaded;\n",
              "          }\n",
              "        }\n",
              "      }\n",
              "      const blob = new Blob(buffers, {type: 'application/binary'});\n",
              "      const a = document.createElement('a');\n",
              "      a.href = window.URL.createObjectURL(blob);\n",
              "      a.download = filename;\n",
              "      div.appendChild(a);\n",
              "      a.click();\n",
              "      div.remove();\n",
              "    }\n",
              "  "
            ],
            "text/plain": [
              "<IPython.core.display.Javascript object>"
            ]
          },
          "metadata": {}
        },
        {
          "output_type": "display_data",
          "data": {
            "application/javascript": [
              "download(\"download_3d244cfc-dc6f-42f7-9f32-56d9af338fa7\", \"BKR\", 4096)"
            ],
            "text/plain": [
              "<IPython.core.display.Javascript object>"
            ]
          },
          "metadata": {}
        }
      ]
    },
    {
      "cell_type": "code",
      "source": [
        "from keras.models import load_model"
      ],
      "metadata": {
        "id": "Pmq8RZT90NRa"
      },
      "execution_count": 41,
      "outputs": []
    },
    {
      "cell_type": "code",
      "source": [
        "model=load_model(\"BKR\")"
      ],
      "metadata": {
        "id": "_3tqucq10NY1"
      },
      "execution_count": 42,
      "outputs": []
    },
    {
      "cell_type": "code",
      "source": [
        "print(model.predict([[0.2,0.2,0.1]]))"
      ],
      "metadata": {
        "colab": {
          "base_uri": "https://localhost:8080/"
        },
        "id": "8tSjh7Tx0NcW",
        "outputId": "e9959456-aead-40d1-ccbe-d639a4353493"
      },
      "execution_count": 43,
      "outputs": [
        {
          "output_type": "stream",
          "name": "stdout",
          "text": [
            "WARNING:tensorflow:6 out of the last 7 calls to <function Model.make_predict_function.<locals>.predict_function at 0x7f0ee2cfd290> triggered tf.function retracing. Tracing is expensive and the excessive number of tracings could be due to (1) creating @tf.function repeatedly in a loop, (2) passing tensors with different shapes, (3) passing Python objects instead of tensors. For (1), please define your @tf.function outside of the loop. For (2), @tf.function has experimental_relax_shapes=True option that relaxes argument shapes that can avoid unnecessary retracing. For (3), please refer to https://www.tensorflow.org/guide/function#controlling_retracing and https://www.tensorflow.org/api_docs/python/tf/function for  more details.\n",
            "[[nan]]\n"
          ]
        }
      ]
    },
    {
      "cell_type": "code",
      "source": [
        ""
      ],
      "metadata": {
        "id": "4jWq2EKK0Njp"
      },
      "execution_count": null,
      "outputs": []
    },
    {
      "cell_type": "code",
      "source": [
        ""
      ],
      "metadata": {
        "id": "24A-pCr1xW1W"
      },
      "execution_count": 30,
      "outputs": []
    },
    {
      "cell_type": "code",
      "source": [
        "import joblib\n",
        "joblib.dump(model, \"DBS Regression Model\")"
      ],
      "metadata": {
        "colab": {
          "base_uri": "https://localhost:8080/"
        },
        "id": "2LVD7bJWiPgi",
        "outputId": "6cda9bc3-d756-4e71-f49d-82a8bcddd9b7"
      },
      "execution_count": null,
      "outputs": [
        {
          "output_type": "execute_result",
          "data": {
            "text/plain": [
              "['DBS Regression Model']"
            ]
          },
          "metadata": {},
          "execution_count": 6
        }
      ]
    },
    {
      "cell_type": "code",
      "source": [
        "model = linear_model.LinearRegression().fit(X,Y)\n",
        "pred = model.predict(X)\n",
        "from sklearn.metrics import mean_squared_error\n",
        "print(mean_squared_error(Y, pred)**0.5)"
      ],
      "metadata": {
        "id": "4dQKCmHSjIc6"
      },
      "execution_count": null,
      "outputs": []
    }
  ]
}